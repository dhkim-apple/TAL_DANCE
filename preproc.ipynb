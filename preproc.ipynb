{
 "cells": [
  {
   "cell_type": "code",
   "execution_count": 1,
   "metadata": {},
   "outputs": [],
   "source": [
    "import os\n",
    "import sys\n",
    "\n",
    "from glob import glob\n",
    "from tqdm import tqdm\n",
    "\n",
    "import pandas as pd\n",
    "import numpy as np"
   ]
  },
  {
   "cell_type": "code",
   "execution_count": 6,
   "metadata": {},
   "outputs": [
    {
     "name": "stdout",
     "output_type": "stream",
     "text": [
      "3212 3212\n"
     ]
    }
   ],
   "source": [
    "# Original Images Paths\n",
    "origin_image_paths = glob('data/camera1/color/color/*.jpg')\n",
    "origin_key_data = pd.read_csv('data/camera1/local_keypoints/camera1_20211117_AI_result.csv')\n",
    "\n",
    "np_origin_key_data = np.array(origin_key_data)\n",
    "\n",
    "sorted_image_paths = np.array(origin_key_data['image_filename'])\n",
    "\n",
    "print(len(origin_image_paths), len(origin_key_data))"
   ]
  },
  {
   "cell_type": "code",
   "execution_count": 13,
   "metadata": {},
   "outputs": [
    {
     "data": {
      "text/plain": [
       "'0_1637116298835.txt'"
      ]
     },
     "execution_count": 13,
     "metadata": {},
     "output_type": "execute_result"
    }
   ],
   "source": [
    "np_origin_key_data[0][0].split('.')[0] + '.txt'"
   ]
  },
  {
   "cell_type": "code",
   "execution_count": 19,
   "metadata": {},
   "outputs": [],
   "source": [
    "file_name = np_origin_key_data[0][0].split('.')[0] + '.txt'\n",
    "\n",
    "with open(f'/home/kdh/Desktop/project/tal_dance/tmp/{file_name}', 'w') as file:\n",
    "    file.write('0 0 0 0 0 ')\n",
    "    for i in range(1, len(np_origin_key_data[0]), 1):\n",
    "        file.write(str(np_origin_key_data[0][i]))\n",
    "        file.write(' ')"
   ]
  },
  {
   "cell_type": "code",
   "execution_count": null,
   "metadata": {},
   "outputs": [],
   "source": [
    "os.copy()"
   ]
  }
 ],
 "metadata": {
  "kernelspec": {
   "display_name": "go",
   "language": "python",
   "name": "python3"
  },
  "language_info": {
   "codemirror_mode": {
    "name": "ipython",
    "version": 3
   },
   "file_extension": ".py",
   "mimetype": "text/x-python",
   "name": "python",
   "nbconvert_exporter": "python",
   "pygments_lexer": "ipython3",
   "version": "3.8.17"
  },
  "orig_nbformat": 4
 },
 "nbformat": 4,
 "nbformat_minor": 2
}
